{
 "cells": [
  {
   "cell_type": "code",
   "execution_count": 2,
   "metadata": {},
   "outputs": [],
   "source": [
    "import numpy as np\n",
    "import math,socket,random\n",
    "import matplotlib.pyplot as plt"
   ]
  },
  {
   "cell_type": "code",
   "execution_count": 3,
   "metadata": {},
   "outputs": [
    {
     "name": "stdout",
     "output_type": "stream",
     "text": [
      "Your address is  :  192.168.0.100\n"
     ]
    }
   ],
   "source": [
    "#printing hostname  and ip address\n",
    "\n",
    "hostname=socket.gethostname()\n",
    "ip=socket.gethostbyname(hostname)\n",
    "print(\"Your address is  : \",ip)"
   ]
  },
  {
   "cell_type": "code",
   "execution_count": 5,
   "metadata": {},
   "outputs": [
    {
     "name": "stdout",
     "output_type": "stream",
     "text": [
      "Enter how many numbers otp you want ???8\n",
      "Your OTP is 33855954\n"
     ]
    }
   ],
   "source": [
    "# to generate OTP \n",
    "b=0\n",
    "n=int(input(\"Enter how many numbers otp you want ???\"))\n",
    "otp=''\n",
    "for i in range(n):\n",
    "    a=math.floor(random.random()*10)\n",
    "    b=str(a)\n",
    "    otp=otp+b\n",
    "print(\"Your OTP is {0}\".format(otp))"
   ]
  },
  {
   "cell_type": "code",
   "execution_count": null,
   "metadata": {},
   "outputs": [],
   "source": [
    "array1=np.arange(40).reshape(2,2,10)\n",
    "array1"
   ]
  },
  {
   "cell_type": "code",
   "execution_count": 46,
   "metadata": {},
   "outputs": [
    {
     "name": "stdout",
     "output_type": "stream",
     "text": [
      "[[0 1 2 3 4]\n",
      " [5 6 7 8 9]] [[0 1]\n",
      " [2 3]\n",
      " [4 5]\n",
      " [6 7]\n",
      " [8 9]]\n",
      "[[ 60  70]\n",
      " [160 195]]\n"
     ]
    }
   ],
   "source": [
    "a1=np.arange(10).reshape(2,5)\n",
    "a2=np.arange(10).reshape(5,2)\n",
    "print(a1,a2)\n",
    "#matrix product\n",
    "print(a1@a2)   #similar to print(a1.dot(a2))"
   ]
  },
  {
   "cell_type": "code",
   "execution_count": 47,
   "metadata": {},
   "outputs": [
    {
     "name": "stdout",
     "output_type": "stream",
     "text": [
      "[[9.52823371 5.70604266 5.81922404 3.30372172]\n",
      " [7.37205083 0.24711707 4.29004422 9.82927326]\n",
      " [9.35928764 6.90121566 2.21095919 2.92303485]\n",
      " [6.23727359 5.47764493 5.91690883 8.74181494]\n",
      " [5.33301859 6.28709047 4.45265711 3.13123237]] \n",
      "\n",
      "[24.35722213 21.73848539 21.39449734 26.37364229 19.20399855]\n",
      "[3.30372172 0.24711707 2.21095919 5.47764493 3.13123237]\n",
      "[3.30372172 0.24711707 2.21095919 5.47764493 3.13123237]\n"
     ]
    }
   ],
   "source": [
    "r_array = (np.random.random((5,4)))*10     #  random array\n",
    "print(r_array,\"\\n\")                     #sum of row axis =1    and for sum of columns axis = 0\n",
    "print(r_array.sum(axis=1))\n",
    "print(r_array.min(axis=1))\n",
    "print(r_array.min(axis=1))     #minimum value from each rows   axis=0 for min values from each colummn"
   ]
  },
  {
   "cell_type": "code",
   "execution_count": 138,
   "metadata": {},
   "outputs": [
    {
     "name": "stdout",
     "output_type": "stream",
     "text": [
      "[[1 2 3 4 5 6 7 8]\n",
      " [4 5 6 7 8 9 0 7]\n",
      " [2 3 4 5 6 7 8 9]]\n",
      "[[False  True False  True False  True False  True]\n",
      " [ True False  True False  True False  True False]\n",
      " [ True False  True False  True False  True False]]\n"
     ]
    }
   ],
   "source": [
    "matrix1 = np.array([[1,2,3,4,5,6,7,8],\n",
    "                   [4,5,6,7,8,9,0,7],\n",
    "                   [2,3,4,5,6,7,8,9]])\n",
    "matrix2 = np.array([[1,2,4],[3,4,6],[5,6,7],[1,2,3],[1,0,1],[2,4,6],[2,3,7],[3,4,1]])\n",
    "print(matrix1)\n",
    "# print(\"\\n\",matrix2)\n",
    "\n",
    "multiply1 = matrix1.dot(matrix2)               #matrix multiplication\n",
    "multiply2 = matrix1@matrix2                  #matrix multiplication .... same as above\n",
    "\n",
    "# print(\"\\n\",multiply1)\n",
    "\n",
    "matrix1*matrix                              #elementwise product\n",
    "\n",
    "diagonal=np.eye(8,8)                             #matrix with diagonal elements 1 and others 0\n",
    "one_matrix = np.ones( (8,8))                     #all with 1\n",
    "zero_matrix=np.zeros((8,8))                      #all with 0\n",
    "\n",
    "# print(diagonal)\n",
    "# print(one_matrix)\n",
    "# print(zero_matrix)\n",
    "\n",
    "                                                    #extracting true or flase based on conditions\n",
    "bool_matrix_of_matrix1 = (matrix1%2==0)\n",
    "print(bool_matrix_of_matrix1)"
   ]
  }
 ],
 "metadata": {
  "kernelspec": {
   "display_name": "Python 3",
   "language": "python",
   "name": "python3"
  },
  "language_info": {
   "codemirror_mode": {
    "name": "ipython",
    "version": 3
   },
   "file_extension": ".py",
   "mimetype": "text/x-python",
   "name": "python",
   "nbconvert_exporter": "python",
   "pygments_lexer": "ipython3",
   "version": "3.6.5"
  }
 },
 "nbformat": 4,
 "nbformat_minor": 2
}
