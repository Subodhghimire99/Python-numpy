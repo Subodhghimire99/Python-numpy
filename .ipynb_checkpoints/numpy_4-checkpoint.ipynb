{
 "cells": [
  {
   "cell_type": "code",
   "execution_count": 1,
   "metadata": {},
   "outputs": [],
   "source": [
    "import numpy as np"
   ]
  },
  {
   "cell_type": "code",
   "execution_count": 21,
   "metadata": {},
   "outputs": [],
   "source": [
    "a=np.array([[2,2,3],\n",
    "            [3,3,2],\n",
    "            [2,2,1]]\n",
    "          )\n",
    "b=np.array([[2,9,7],\n",
    "            [1,1,6],\n",
    "            [1,7,8]]\n",
    "          )"
   ]
  },
  {
   "cell_type": "code",
   "execution_count": 31,
   "metadata": {},
   "outputs": [
    {
     "data": {
      "text/plain": [
       "array([[2, 3],\n",
       "       [3, 2]])"
      ]
     },
     "execution_count": 31,
     "metadata": {},
     "output_type": "execute_result"
    }
   ],
   "source": [
    "a[0:2, 1:]      # o to 2 rows : 1 to last elements"
   ]
  },
  {
   "cell_type": "code",
   "execution_count": 33,
   "metadata": {},
   "outputs": [
    {
     "data": {
      "text/plain": [
       "array([2, 3, 2])"
      ]
     },
     "execution_count": 33,
     "metadata": {},
     "output_type": "execute_result"
    }
   ],
   "source": [
    "a[:,0]      #iterating through every row and taking the first element"
   ]
  },
  {
   "cell_type": "code",
   "execution_count": 40,
   "metadata": {},
   "outputs": [
    {
     "data": {
      "text/plain": [
       "array([3, 2, 1])"
      ]
     },
     "execution_count": 40,
     "metadata": {},
     "output_type": "execute_result"
    }
   ],
   "source": [
    "a[0:,2]     #iterating through every row and taking last element"
   ]
  },
  {
   "cell_type": "code",
   "execution_count": 43,
   "metadata": {},
   "outputs": [
    {
     "name": "stdout",
     "output_type": "stream",
     "text": [
      "[2 2 3]\n",
      "[3 3 2]\n",
      "[2 2 1]\n"
     ]
    }
   ],
   "source": [
    "for rows in a:\n",
    "    print(rows)"
   ]
  },
  {
   "cell_type": "code",
   "execution_count": 48,
   "metadata": {},
   "outputs": [
    {
     "name": "stdout",
     "output_type": "stream",
     "text": [
      "<numpy.flatiter object at 0x035F9480>\n",
      "[2 2 3 3 3 2 2 2 1]\n"
     ]
    }
   ],
   "source": [
    "print(a.flat)               # flat  maps each element as in one dimension\n",
    "print(np.array(a.flat))"
   ]
  },
  {
   "cell_type": "code",
   "execution_count": 49,
   "metadata": {},
   "outputs": [
    {
     "name": "stdout",
     "output_type": "stream",
     "text": [
      "2\n",
      "2\n",
      "3\n",
      "3\n",
      "3\n",
      "2\n",
      "2\n",
      "2\n",
      "1\n"
     ]
    }
   ],
   "source": [
    "for rows in a.flat:\n",
    "    print(rows)"
   ]
  },
  {
   "cell_type": "code",
   "execution_count": 66,
   "metadata": {},
   "outputs": [
    {
     "name": "stdout",
     "output_type": "stream",
     "text": [
      "[[2 2 3]\n",
      " [3 3 2]\n",
      " [2 2 1]]\n",
      "[[2 9 7]\n",
      " [1 1 6]\n",
      " [1 7 8]]\n",
      "\n",
      "[[2 2 3]\n",
      " [3 3 2]\n",
      " [2 2 1]\n",
      " [2 9 7]\n",
      " [1 1 6]\n",
      " [1 7 8]]\n",
      "\n",
      "[[2 2 3 2 9 7]\n",
      " [3 3 2 1 1 6]\n",
      " [2 2 1 1 7 8]]\n",
      "\n"
     ]
    }
   ],
   "source": [
    "# stacking two arrays we use hstack and vstack for horizontally stacking and vertically stacking respectively\n",
    "print(a)\n",
    "print(b,end=\"\\n\\n\")\n",
    "print(np.vstack((a,b)),end=\"\\n\\n\")\n",
    "print(np.hstack((a,b)),end=\"\\n\\n\")"
   ]
  },
  {
   "cell_type": "code",
   "execution_count": 75,
   "metadata": {},
   "outputs": [
    {
     "name": "stdout",
     "output_type": "stream",
     "text": [
      "[array([[2, 2, 3]]), array([[3, 3, 2]]), array([[2, 2, 1]])]\n",
      "\n",
      "[array([[2],\n",
      "       [3],\n",
      "       [2]]), array([[2],\n",
      "       [3],\n",
      "       [2]]), array([[3],\n",
      "       [2],\n",
      "       [1]])]\n"
     ]
    }
   ],
   "source": [
    "print(np.vsplit(a,3),end=\"\\n\\n\")     #vertically split 'a' into 3 arrays\n",
    "print(np.hsplit(a,3))                #horizontally split 'a' into 3 arrays"
   ]
  },
  {
   "cell_type": "code",
   "execution_count": 80,
   "metadata": {},
   "outputs": [
    {
     "name": "stdout",
     "output_type": "stream",
     "text": [
      "[[False False False]\n",
      " [ True  True False]\n",
      " [ True False False]]\n",
      "\n",
      "[[False False False]\n",
      " [False False False]\n",
      " [False False False]]\n"
     ]
    }
   ],
   "source": [
    "# boolean arrays\n",
    "boolean_array_of_a = (a>b)               #checks condition for every element\n",
    "print(boolean_array_of_a,end=\"\\n\\n\")\n",
    "print(a>3)"
   ]
  },
  {
   "cell_type": "code",
   "execution_count": 84,
   "metadata": {
    "scrolled": true
   },
   "outputs": [
    {
     "name": "stdout",
     "output_type": "stream",
     "text": [
      "[[2 2 3]\n",
      " [3 3 2]\n",
      " [2 2 1]]\n",
      "\n",
      "[3 3 3]\n"
     ]
    }
   ],
   "source": [
    "'''boolean arrays are the best way of replacing data and extracting data based\n",
    "    on certain conditions.    \n",
    "'''\n",
    "condition = a>2\n",
    "print(a, end=\"\\n\\n\")\n",
    "print(a[condition])   #printing elements of a grater than 2"
   ]
  },
  {
   "cell_type": "code",
   "execution_count": 91,
   "metadata": {},
   "outputs": [
    {
     "name": "stdout",
     "output_type": "stream",
     "text": [
      "[[ 2  2 -1]\n",
      " [-1 -1  2]\n",
      " [ 2  2  1]]\n"
     ]
    }
   ],
   "source": [
    "#we can also change the values acccordiing to condition\n",
    "condition_2 = a==2\n",
    "a[condition]=-1\n",
    "print(a)                   # elements which were equal to 2 are replaced by -1"
   ]
  }
 ],
 "metadata": {
  "kernelspec": {
   "display_name": "Python 3",
   "language": "python",
   "name": "python3"
  },
  "language_info": {
   "codemirror_mode": {
    "name": "ipython",
    "version": 3
   },
   "file_extension": ".py",
   "mimetype": "text/x-python",
   "name": "python",
   "nbconvert_exporter": "python",
   "pygments_lexer": "ipython3",
   "version": "3.6.5"
  }
 },
 "nbformat": 4,
 "nbformat_minor": 2
}
