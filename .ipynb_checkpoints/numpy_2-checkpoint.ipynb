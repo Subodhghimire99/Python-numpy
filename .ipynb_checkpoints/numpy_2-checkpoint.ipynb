{
 "cells": [
  {
   "cell_type": "code",
   "execution_count": 11,
   "metadata": {},
   "outputs": [],
   "source": [
    "import numpy as np\n",
    "import matplotlib.pyplot as plt\n",
    "import seaborn as sbn\n",
    "import random\n",
    "import sys\n",
    "import time\n",
    "m=np.array([[2,3],[4,6],[1,9]])\n",
    "n=np.array([[1,2,3],[3,4,5]])\n",
    "o=np.array([[1,2],[3,7],[9,5]])"
   ]
  },
  {
   "cell_type": "code",
   "execution_count": null,
   "metadata": {},
   "outputs": [
    {
     "name": "stdout",
     "output_type": "stream",
     "text": [
      "Enter number   234\n"
     ]
    }
   ],
   "source": [
    "initial_number=int(input(\"Enter number   \"))\n",
    "temp=initial_number\n",
    "reverse=0\n",
    "while(initial_number>0):\n",
    "    r=initial_number%10\n",
    "    reverse=(reverse*10)+r\n",
    "print(reverse)"
   ]
  },
  {
   "cell_type": "code",
   "execution_count": null,
   "metadata": {},
   "outputs": [],
   "source": []
  }
 ],
 "metadata": {
  "kernelspec": {
   "display_name": "Python 3",
   "language": "python",
   "name": "python3"
  },
  "language_info": {
   "codemirror_mode": {
    "name": "ipython",
    "version": 3
   },
   "file_extension": ".py",
   "mimetype": "text/x-python",
   "name": "python",
   "nbconvert_exporter": "python",
   "pygments_lexer": "ipython3",
   "version": "3.6.5"
  }
 },
 "nbformat": 4,
 "nbformat_minor": 2
}
