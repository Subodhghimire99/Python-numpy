{
 "cells": [
  {
   "cell_type": "code",
   "execution_count": 4,
   "metadata": {},
   "outputs": [],
   "source": [
    "import numpy as np\n",
    "import matplotlib.pyplot as plt\n",
    "import seaborn as sbn\n",
    "import random\n",
    "import sys\n",
    "import time"
   ]
  },
  {
   "cell_type": "code",
   "execution_count": 6,
   "metadata": {},
   "outputs": [],
   "source": [
    "a=np.arange(20).reshape(4,5)\n",
    "a1=np.arange(1,2000000)\n",
    "a2=np.arange(1,2000000)\n",
    "l1=list(range(1,2000000))\n",
    "l2=list(range(1,2000000))"
   ]
  },
  {
   "cell_type": "code",
   "execution_count": 7,
   "metadata": {
    "scrolled": true
   },
   "outputs": [
    {
     "name": "stdout",
     "output_type": "stream",
     "text": [
      "0.5867769718170166\n",
      "time for array addition =  0.01562643051147461\n"
     ]
    }
   ],
   "source": [
    "st=time.time()\n",
    "l3 = [x+y for x,y in zip(l1,l2)]                           #list takes way more time than array.so numpy is faster to calculate huge amount of data\n",
    "print((time.time()-st))\n",
    "st=time.time()\n",
    "a3=a1+a2\n",
    "print(\"time for array addition = \",(time.time()-st))"
   ]
  },
  {
   "cell_type": "code",
   "execution_count": 19,
   "metadata": {},
   "outputs": [
    {
     "data": {
      "text/plain": [
       "array([ 1.,  2.,  3.,  4.,  5.,  6.,  7.,  8.,  9., 10.])"
      ]
     },
     "execution_count": 19,
     "metadata": {},
     "output_type": "execute_result"
    }
   ],
   "source": [
    "try_list = [1,2,3,4,5,6,7,8,9,10]                    #conversion an be done by using dtype\n",
    "array_try = np.array(try_list, dtype=np.float64)\n",
    "array_try"
   ]
  }
 ],
 "metadata": {
  "kernelspec": {
   "display_name": "Python 3",
   "language": "python",
   "name": "python3"
  },
  "language_info": {
   "codemirror_mode": {
    "name": "ipython",
    "version": 3
   },
   "file_extension": ".py",
   "mimetype": "text/x-python",
   "name": "python",
   "nbconvert_exporter": "python",
   "pygments_lexer": "ipython3",
   "version": "3.6.5"
  }
 },
 "nbformat": 4,
 "nbformat_minor": 2
}
