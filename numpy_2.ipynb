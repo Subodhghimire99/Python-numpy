{
 "cells": [
  {
   "cell_type": "code",
   "execution_count": 11,
   "metadata": {},
   "outputs": [],
   "source": [
    "import numpy as np\n",
    "import matplotlib.pyplot as plt\n",
    "import seaborn as sbn\n",
    "import random\n",
    "import sys\n",
    "import time"
   ]
  },
  {
   "cell_type": "code",
   "execution_count": 79,
   "metadata": {},
   "outputs": [],
   "source": [
    "a1=np.arange(1,2000000)\n",
    "a2=np.arange(1,2000000)\n",
    "l1=list(range(1,2000000))\n",
    "l2=list(range(1,2000000))"
   ]
  },
  {
   "cell_type": "code",
   "execution_count": 80,
   "metadata": {},
   "outputs": [
    {
     "name": "stdout",
     "output_type": "stream",
     "text": [
      "1.2762596607208252\n",
      "time for array addition =  0.0156252384185791\n"
     ]
    }
   ],
   "source": [
    "st=time.time()\n",
    "l3 = [x+y for x,y in zip(l1,l2)]                           #list takes way more time than array.so numpy is faster to calculate huge amount of data\n",
    "print((time.time()-st))\n",
    "st=time.time()\n",
    "a3=a1+a2\n",
    "print(\"time for array addition = \",(time.time()-st))"
   ]
  }
 ],
 "metadata": {
  "kernelspec": {
   "display_name": "Python 3",
   "language": "python",
   "name": "python3"
  },
  "language_info": {
   "codemirror_mode": {
    "name": "ipython",
    "version": 3
   },
   "file_extension": ".py",
   "mimetype": "text/x-python",
   "name": "python",
   "nbconvert_exporter": "python",
   "pygments_lexer": "ipython3",
   "version": "3.6.5"
  }
 },
 "nbformat": 4,
 "nbformat_minor": 2
}
