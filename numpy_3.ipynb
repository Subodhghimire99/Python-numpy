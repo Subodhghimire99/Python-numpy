{
 "cells": [
  {
   "cell_type": "code",
   "execution_count": 1,
   "metadata": {},
   "outputs": [],
   "source": [
    "import numpy as np\n",
    "import math"
   ]
  },
  {
   "cell_type": "code",
   "execution_count": 18,
   "metadata": {},
   "outputs": [
    {
     "name": "stdout",
     "output_type": "stream",
     "text": [
      "complex a is : \n",
      "  [[ 1.+0.j  2.+0.j  3.+0.j  4.+0.j  5.+0.j]\n",
      " [ 6.+0.j  7.+0.j  8.+0.j  9.+0.j 10.+0.j]\n",
      " [11.+0.j 12.+0.j 13.+0.j 14.+0.j 15.+0.j]\n",
      " [16.+0.j 17.+0.j 18.+0.j 19.+0.j 20.+0.j]]\n"
     ]
    }
   ],
   "source": [
    "a=np.arange(1,21).reshape(4,5)\n",
    "complex_a = np.array(a,dtype = complex)    #changing in to complex data type\n",
    "print(\"complex a is : \\n \",complex_a)"
   ]
  },
  {
   "cell_type": "code",
   "execution_count": 28,
   "metadata": {},
   "outputs": [
    {
     "data": {
      "text/plain": [
       "array([ 1.  ,  3.25,  5.5 ,  7.75, 10.  ])"
      ]
     },
     "execution_count": 28,
     "metadata": {},
     "output_type": "execute_result"
    }
   ],
   "source": [
    "#using linspace ..... it ceats unoformly distrubuted numbers from start point to ennpoint\n",
    "np.linspace(1,10,5)"
   ]
  },
  {
   "cell_type": "code",
   "execution_count": 45,
   "metadata": {},
   "outputs": [
    {
     "name": "stdout",
     "output_type": "stream",
     "text": [
      "[[40.  40.5 41.  41.5 42. ]\n",
      " [42.5 43.  43.5 44.  44.5]\n",
      " [45.  45.5 46.  46.5 47. ]\n",
      " [47.5 48.  48.5 49.  49.5]\n",
      " [50.  50.5 51.  51.5 52. ]\n",
      " [52.5 53.  53.5 54.  54.5]\n",
      " [55.  55.5 56.  56.5 57. ]\n",
      " [57.5 58.  58.5 59.  59.5]]\n",
      "\n",
      "using ravel function \n",
      " [40.  40.5 41.  41.5 42.  42.5 43.  43.5 44.  44.5 45.  45.5 46.  46.5\n",
      " 47.  47.5 48.  48.5 49.  49.5 50.  50.5 51.  51.5 52.  52.5 53.  53.5\n",
      " 54.  54.5 55.  55.5 56.  56.5 57.  57.5 58.  58.5 59.  59.5]\n"
     ]
    }
   ],
   "source": [
    "b=np.arange(40,60,0.5).reshape(8,5)\n",
    "print(b)\n",
    "print(\"\\nusing ravel function \\n\",b.ravel())    #using ravel function .. it makes the array one dimension"
   ]
  },
  {
   "cell_type": "code",
   "execution_count": 53,
   "metadata": {},
   "outputs": [
    {
     "name": "stdout",
     "output_type": "stream",
     "text": [
      "59.5\n",
      "40.0\n"
     ]
    }
   ],
   "source": [
    "print(b.max())      # min and max functions in numpy array\n",
    "print(b.min())"
   ]
  },
  {
   "cell_type": "code",
   "execution_count": 57,
   "metadata": {},
   "outputs": [
    {
     "name": "stdout",
     "output_type": "stream",
     "text": [
      "1990.0\n",
      "[390. 394. 398. 402. 406.]\n",
      "[205.  217.5 230.  242.5 255.  267.5 280.  292.5]\n"
     ]
    }
   ],
   "source": [
    "print(b.sum())\n",
    "print(b.sum(axis=0))     # column sum \n",
    "print(b.sum(axis=1))     # row  sum"
   ]
  },
  {
   "cell_type": "code",
   "execution_count": 64,
   "metadata": {},
   "outputs": [
    {
     "name": "stdout",
     "output_type": "stream",
     "text": [
      "[[6.32455532 6.36396103 6.40312424 6.44204936 6.4807407 ]\n",
      " [6.51920241 6.55743852 6.59545298 6.63324958 6.67083203]\n",
      " [6.70820393 6.74536878 6.78232998 6.81909085 6.8556546 ]\n",
      " [6.89202438 6.92820323 6.96419414 7.         7.03562364]\n",
      " [7.07106781 7.1063352  7.14142843 7.17635005 7.21110255]\n",
      " [7.24568837 7.28010989 7.31436942 7.34846923 7.38241153]\n",
      " [7.41619849 7.44983221 7.48331477 7.51664819 7.54983444]\n",
      " [7.58287544 7.61577311 7.64852927 7.68114575 7.71362431]]\n",
      "\n",
      "The standard deviation is  5.771698190307598\n"
     ]
    }
   ],
   "source": [
    "print(np.sqrt(b), end=\"\\n\\n\")  #square root of individual elements\n",
    "print(\"The standard deviation is \",np.std(b))   #std is standard deviation"
   ]
  },
  {
   "cell_type": "code",
   "execution_count": 79,
   "metadata": {},
   "outputs": [
    {
     "name": "stdout",
     "output_type": "stream",
     "text": [
      "[[ 3  4 10]\n",
      " [ 9  9 12]\n",
      " [ 6 10 11]]\n",
      "\n",
      "[[ 1 -2 -2]\n",
      " [-1 -3 -2]\n",
      " [-2 -4 -1]]\n",
      "\n",
      "[[2.         0.33333333 0.66666667]\n",
      " [0.8        0.5        0.71428571]\n",
      " [0.5        0.42857143 0.83333333]]\n",
      "\n",
      "[[ 2  3 24]\n",
      " [20 18 35]\n",
      " [ 8 21 30]]\n",
      "\n",
      "[[23 40 43]\n",
      " [39 65 75]\n",
      " [37 59 63]]\n",
      "\n",
      "[[23 40 43]\n",
      " [39 65 75]\n",
      " [37 59 63]]\n"
     ]
    }
   ],
   "source": [
    "# some mathemaical operations \n",
    "a=np.array([[2,1,4],[4,3,5],[2,3,5]])\n",
    "b=np.array([[1,3,6],[5,6,7],[4,7,6]])\n",
    "print((a+b), end=\"\\n\\n\")\n",
    "print((a-b), end = \"\\n\\n\")\n",
    "print((a/b),end = \"\\n\\n\")\n",
    "print((a*b), end = \"\\n\\n\")\n",
    "print((a.dot(b)), end = '\\n\\n')   #matrix muliplication\n",
    "print(a@b)                        #same as above .. marix multiplication"
   ]
  },
  {
   "cell_type": "code",
   "execution_count": null,
   "metadata": {},
   "outputs": [],
   "source": []
  }
 ],
 "metadata": {
  "kernelspec": {
   "display_name": "Python 3",
   "language": "python",
   "name": "python3"
  },
  "language_info": {
   "codemirror_mode": {
    "name": "ipython",
    "version": 3
   },
   "file_extension": ".py",
   "mimetype": "text/x-python",
   "name": "python",
   "nbconvert_exporter": "python",
   "pygments_lexer": "ipython3",
   "version": "3.6.5"
  }
 },
 "nbformat": 4,
 "nbformat_minor": 2
}
